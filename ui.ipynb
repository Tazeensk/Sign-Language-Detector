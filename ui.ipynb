{
 "cells": [
  {
   "cell_type": "code",
   "execution_count": 3,
   "metadata": {},
   "outputs": [
    {
     "name": "stdout",
     "output_type": "stream",
     "text": [
      "1/1 [==============================] - 0s 96ms/step\n",
      "Predicted Sign: o\n"
     ]
    }
   ],
   "source": [
    "# Importing necessary libraries\n",
    "import tkinter as tk\n",
    "from tkinter import filedialog\n",
    "from tkinter import *\n",
    "from PIL import Image, ImageTk\n",
    "import numpy as np\n",
    "import os\n",
    "os.environ['TF_CPP_MIN_LOG_LEVEL'] = '1'\n",
    "\n",
    "# Loading the Sign Language Model\n",
    "from keras.models import load_model\n",
    "model = load_model('model.h5')  # Replace 'your_sign_language_model.h5' with the actual filename of your sign language model\n",
    "\n",
    "# Initializing the GUI\n",
    "top = tk.Tk()\n",
    "top.geometry('800x600')\n",
    "top.title(\"Sign Language Detector\")\n",
    "top.configure(background=\"#ADD8E6\")\n",
    "\n",
    "# Initializing the Labels(1 for predicted sign)\n",
    "label1 = Label(top, background=\"#ADD8E6\", font=(\"arial\", 15, \"bold\"))\n",
    "\n",
    "sign_image = Label(top)\n",
    "\n",
    "# Defining Detect Function which detects the sign language in the image using a model\n",
    "def Detect(file_path):\n",
    "    global label_packed\n",
    "    image = Image.open(file_path)\n",
    "    image = image.resize((128, 128))\n",
    "    image = np.array(image)\n",
    "    image = np.array([image])/255\n",
    "    pred = model.predict(image)\n",
    "    predicted_class = np.argmax(pred)\n",
    "    sign_categories = {0: \"0\", 1: \"1\", 2: \"2\", 3: \"3\", 4: \"4\", 5: \"5\", 6: \"6\", 7: \"7\", 8: \"8\", 9: \"9\",\n",
    "                       10: \"a\", 11: \"b\", 12: \"c\", 13: \"d\", 14: \"e\", 15: \"f\", 16: \"g\", 17: \"h\", 18: \"i\",\n",
    "                       19: \"j\", 20: \"k\", 21: \"l\", 22: \"m\", 23: \"n\", 24: \"o\", 25: \"p\", 26: \"q\", 27: \"r\",\n",
    "                       28: \"s\", 29: \"t\", 30: \"u\", 31: \"v\", 32: \"w\", 33: \"x\", 34: \"y\", 35: \"z\"}\n",
    "    predicted_sign = sign_categories[predicted_class]\n",
    "\n",
    "    print(\"Predicted Sign: \" + predicted_sign)\n",
    "    label1.configure(foreground=\"black\", text=\"Predicted Sign: \" + predicted_sign)\n",
    "\n",
    "# Defining show detect button function\n",
    "def show_Detect_button(file_path):\n",
    "    Detect_b = Button(top, text=\"Detect Sign\", command=lambda: Detect(file_path), padx=10, pady=5)\n",
    "    Detect_b.configure(background='#000080', foreground=\"white\", font=(\"arial\", 10, 'bold'))\n",
    "    Detect_b.place(relx=0.79, rely=0.46)\n",
    "\n",
    "# Defining upload image function\n",
    "def upload_image():\n",
    "    try:\n",
    "        file_path = filedialog.askopenfilename()\n",
    "        uploaded = Image.open(file_path)\n",
    "        uploaded.thumbnail(((top.winfo_width()/2.25), (top.winfo_height()/2.25)))\n",
    "        im = ImageTk.PhotoImage(uploaded)\n",
    "        sign_image.configure(image=im)\n",
    "        sign_image.image = im\n",
    "        label1.configure(text=\"\")\n",
    "        show_Detect_button(file_path)\n",
    "    except Exception as e:\n",
    "        print(e)\n",
    "\n",
    "upload = Button(top, text=\"Upload an Image\", command=upload_image, padx=10, pady=5)\n",
    "upload.configure(background=\"#000080\", foreground=\"white\", font=(\"arial\", 10, 'bold'))\n",
    "upload.pack(side='bottom', pady=50)\n",
    "sign_image.pack(side=\"bottom\", expand=True)\n",
    "label1.pack(side='bottom', expand=True)\n",
    "heading = Label(top, text=\"Sign Language Detector\", pady=20, font=(\"arial\", 20, \"bold\"))\n",
    "heading.configure(background=\"#ADD8E6\", foreground=\"#000080\")\n",
    "heading.pack()\n",
    "top.mainloop()\n"
   ]
  },
  {
   "cell_type": "code",
   "execution_count": null,
   "metadata": {},
   "outputs": [],
   "source": []
  }
 ],
 "metadata": {
  "kernelspec": {
   "display_name": "base",
   "language": "python",
   "name": "python3"
  },
  "language_info": {
   "codemirror_mode": {
    "name": "ipython",
    "version": 3
   },
   "file_extension": ".py",
   "mimetype": "text/x-python",
   "name": "python",
   "nbconvert_exporter": "python",
   "pygments_lexer": "ipython3",
   "version": "3.11.5"
  }
 },
 "nbformat": 4,
 "nbformat_minor": 2
}
